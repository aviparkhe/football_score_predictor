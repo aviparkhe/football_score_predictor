{
  "nbformat": 4,
  "nbformat_minor": 0,
  "metadata": {
    "colab": {
      "name": "FOOTBALL_SCORE_PREDICTION.ipynb",
      "provenance": [],
      "authorship_tag": "ABX9TyM/qhkRO/9+v9ca4uWODs0p"
    },
    "kernelspec": {
      "name": "python3",
      "display_name": "Python 3"
    },
    "language_info": {
      "name": "python"
    }
  },
  "cells": [
    {
      "cell_type": "code",
      "metadata": {
        "colab": {
          "base_uri": "https://localhost:8080/",
          "height": 698
        },
        "id": "WDA5US_jq3zM",
        "outputId": "e06d11fe-fe5b-4b4e-c92e-b26caca87a6e"
      },
      "source": [
        "# ML Number Regression Model: American Football Score Prediction\n",
        "\n",
        "import pandas as pd\n",
        "import numpy as np\n",
        "import seaborn as sn\n",
        "from matplotlib import pyplot as plt\n",
        "from sklearn.model_selection import train_test_split\n",
        "from sklearn.linear_model import LinearRegression, LogisticRegression\n",
        "from sklearn.metrics import accuracy_score\n",
        "from sklearn.metrics import confusion_matrix\n",
        "\n",
        "# Load in the data\n",
        "url = \"https://raw.githubusercontent.com/aviparkhe/football_score_predictor/main/football_scores%20-%20Sheet1.csv\"\n",
        "dataset = pd.read_csv(url) # use pandas to read the csv file\n",
        "\n",
        "# Prepare the data\n",
        "features = [\"Visitor_score\", \"Home_score\"]\n",
        "x = dataset[features]\n",
        "y = dataset[\"Who_won\"]\n",
        "x_train, x_validation, y_train, y_validation = train_test_split(x, y) # split the data into training and testing, for x and y\n",
        "\n",
        "# Generating the model\n",
        "lr_model = LinearRegression()\n",
        "lr_model.fit(x_train, y_train) # train the LinearRegression() model\n",
        "predictions = lr_model.predict(x_validation)\n",
        "\n",
        "# Evaluating the model\n",
        "accuracy_score_percent = lr_model.score(x_validation, y_validation) * 100 # calculate the R2 accuracy score using the LinearRegression() model\n",
        "print(f\"ML Model Accuracy Score: {accuracy_score_percent}%\")\n",
        "\n",
        "# Testing the model\n",
        "print(predictions)\n",
        "y_validation = y_validation.to_numpy()\n",
        "print(y_validation)\n",
        "print()\n",
        "print()\n",
        "print(len(predictions), rounded_pos_neg(predictions[0]), rounded_pos_neg(predictions[67]))\n",
        "\n",
        "\n",
        "# for i in range(269): \n",
        "#   if predictions[i] > 0:\n",
        "#     predictions[i] = 1\n",
        "#   else:\n",
        "#     predictions[i] = -1\n",
        "\n",
        "conf_matrix = confusion_matrix(predictions, y_validation)\n",
        "print(conf_matrix)\n",
        "# show_confusion_matrix(conf_matrix)"
      ],
      "execution_count": 15,
      "outputs": [
        {
          "output_type": "stream",
          "text": [
            "ML Model Accuracy Score: 59.240300224128916%\n",
            "[-0.97327897  0.21316201 -0.1875336   1.45540257  0.43516672 -0.38622409\n",
            "  0.47713233 -0.20152214 -0.24032767 -0.2946245   1.24888916  0.82187379\n",
            "  0.6028746  -0.30861303  0.57805761 -1.5260366  -0.5462636  -0.21235059\n",
            "  0.17585924 -0.17354507 -0.99493587 -0.28063596  0.50977225 -0.15023084\n",
            " -0.1362423   0.20849916 -0.32726442  0.02213989 -0.10360238 -0.19369921\n",
            " -0.17354507  0.80788526 -1.06638132 -0.06795694  0.97559314 -0.479481\n",
            "  0.09042526 -0.43751539  1.46006541  0.31408729  0.31559005 -1.62545913\n",
            "  0.25196753 -2.20153099 -0.20768775  1.6277733   0.94761607  0.20849916\n",
            " -0.10209962 -0.97944457  1.22407217  0.69763428 -0.22167629 -1.08352994\n",
            " -0.34125295  0.90881054 -0.40953832 -0.15489368 -0.96545604  0.36688136\n",
            " -0.22633913  0.61686314 -1.12383823 -1.29936905  0.54541769  0.4693094\n",
            " -0.94530189  0.12923078]\n",
            "[-1  1 -1  1  1 -1  1 -1 -1 -1  1  1  1 -1  1 -1 -1 -1  1 -1 -1 -1  1 -1\n",
            " -1  1 -1 -1 -1 -1 -1  1 -1 -1  1 -1  1 -1  1  1  1 -1  1 -1 -1  1  1  1\n",
            " -1 -1  1  1 -1 -1 -1  1 -1 -1 -1  1 -1  1 -1 -1  1  1 -1  1]\n",
            "\n",
            "\n",
            "68 -1 1\n"
          ],
          "name": "stdout"
        },
        {
          "output_type": "error",
          "ename": "ValueError",
          "evalue": "ignored",
          "traceback": [
            "\u001b[0;31m---------------------------------------------------------------------------\u001b[0m",
            "\u001b[0;31mValueError\u001b[0m                                Traceback (most recent call last)",
            "\u001b[0;32m<ipython-input-15-f3e58b38ebf7>\u001b[0m in \u001b[0;36m<module>\u001b[0;34m()\u001b[0m\n\u001b[1;32m     44\u001b[0m \u001b[0;31m#     predictions[i] = -1\u001b[0m\u001b[0;34m\u001b[0m\u001b[0;34m\u001b[0m\u001b[0;34m\u001b[0m\u001b[0m\n\u001b[1;32m     45\u001b[0m \u001b[0;34m\u001b[0m\u001b[0m\n\u001b[0;32m---> 46\u001b[0;31m \u001b[0mconf_matrix\u001b[0m \u001b[0;34m=\u001b[0m \u001b[0mconfusion_matrix\u001b[0m\u001b[0;34m(\u001b[0m\u001b[0mpredictions\u001b[0m\u001b[0;34m,\u001b[0m \u001b[0my_validation\u001b[0m\u001b[0;34m)\u001b[0m\u001b[0;34m\u001b[0m\u001b[0;34m\u001b[0m\u001b[0m\n\u001b[0m\u001b[1;32m     47\u001b[0m \u001b[0mprint\u001b[0m\u001b[0;34m(\u001b[0m\u001b[0mconf_matrix\u001b[0m\u001b[0;34m)\u001b[0m\u001b[0;34m\u001b[0m\u001b[0;34m\u001b[0m\u001b[0m\n\u001b[1;32m     48\u001b[0m \u001b[0;31m# show_confusion_matrix(conf_matrix)\u001b[0m\u001b[0;34m\u001b[0m\u001b[0;34m\u001b[0m\u001b[0;34m\u001b[0m\u001b[0m\n",
            "\u001b[0;32m/usr/local/lib/python3.7/dist-packages/sklearn/metrics/_classification.py\u001b[0m in \u001b[0;36mconfusion_matrix\u001b[0;34m(y_true, y_pred, labels, sample_weight, normalize)\u001b[0m\n\u001b[1;32m    266\u001b[0m \u001b[0;34m\u001b[0m\u001b[0m\n\u001b[1;32m    267\u001b[0m     \"\"\"\n\u001b[0;32m--> 268\u001b[0;31m     \u001b[0my_type\u001b[0m\u001b[0;34m,\u001b[0m \u001b[0my_true\u001b[0m\u001b[0;34m,\u001b[0m \u001b[0my_pred\u001b[0m \u001b[0;34m=\u001b[0m \u001b[0m_check_targets\u001b[0m\u001b[0;34m(\u001b[0m\u001b[0my_true\u001b[0m\u001b[0;34m,\u001b[0m \u001b[0my_pred\u001b[0m\u001b[0;34m)\u001b[0m\u001b[0;34m\u001b[0m\u001b[0;34m\u001b[0m\u001b[0m\n\u001b[0m\u001b[1;32m    269\u001b[0m     \u001b[0;32mif\u001b[0m \u001b[0my_type\u001b[0m \u001b[0;32mnot\u001b[0m \u001b[0;32min\u001b[0m \u001b[0;34m(\u001b[0m\u001b[0;34m\"binary\"\u001b[0m\u001b[0;34m,\u001b[0m \u001b[0;34m\"multiclass\"\u001b[0m\u001b[0;34m)\u001b[0m\u001b[0;34m:\u001b[0m\u001b[0;34m\u001b[0m\u001b[0;34m\u001b[0m\u001b[0m\n\u001b[1;32m    270\u001b[0m         \u001b[0;32mraise\u001b[0m \u001b[0mValueError\u001b[0m\u001b[0;34m(\u001b[0m\u001b[0;34m\"%s is not supported\"\u001b[0m \u001b[0;34m%\u001b[0m \u001b[0my_type\u001b[0m\u001b[0;34m)\u001b[0m\u001b[0;34m\u001b[0m\u001b[0;34m\u001b[0m\u001b[0m\n",
            "\u001b[0;32m/usr/local/lib/python3.7/dist-packages/sklearn/metrics/_classification.py\u001b[0m in \u001b[0;36m_check_targets\u001b[0;34m(y_true, y_pred)\u001b[0m\n\u001b[1;32m     88\u001b[0m     \u001b[0;32mif\u001b[0m \u001b[0mlen\u001b[0m\u001b[0;34m(\u001b[0m\u001b[0my_type\u001b[0m\u001b[0;34m)\u001b[0m \u001b[0;34m>\u001b[0m \u001b[0;36m1\u001b[0m\u001b[0;34m:\u001b[0m\u001b[0;34m\u001b[0m\u001b[0;34m\u001b[0m\u001b[0m\n\u001b[1;32m     89\u001b[0m         raise ValueError(\"Classification metrics can't handle a mix of {0} \"\n\u001b[0;32m---> 90\u001b[0;31m                          \"and {1} targets\".format(type_true, type_pred))\n\u001b[0m\u001b[1;32m     91\u001b[0m \u001b[0;34m\u001b[0m\u001b[0m\n\u001b[1;32m     92\u001b[0m     \u001b[0;31m# We can't have more than one value on y_type => The set is no more needed\u001b[0m\u001b[0;34m\u001b[0m\u001b[0;34m\u001b[0m\u001b[0;34m\u001b[0m\u001b[0m\n",
            "\u001b[0;31mValueError\u001b[0m: Classification metrics can't handle a mix of continuous and binary targets"
          ]
        }
      ]
    },
    {
      "cell_type": "code",
      "metadata": {
        "id": "US7hRNr3wFJB"
      },
      "source": [
        "def rounded_pos_neg(n):\n",
        "  if n > 0:\n",
        "    return 1\n",
        "  else:\n",
        "    return -1"
      ],
      "execution_count": 13,
      "outputs": []
    }
  ]
}