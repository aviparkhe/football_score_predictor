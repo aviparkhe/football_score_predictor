{
  "nbformat": 4,
  "nbformat_minor": 0,
  "metadata": {
    "colab": {
      "name": "FOOTBALL_SCORE_PREDICTION.ipynb",
      "provenance": []
    },
    "kernelspec": {
      "name": "python3",
      "display_name": "Python 3"
    },
    "language_info": {
      "name": "python"
    }
  },
  "cells": [
    {
      "cell_type": "code",
      "metadata": {
        "colab": {
          "base_uri": "https://localhost:8080/",
          "height": 290
        },
        "id": "WDA5US_jq3zM",
        "outputId": "046d0208-a7af-412e-da32-9495069741cf"
      },
      "source": [
        "# ML Number Regression Model: American Football Score Prediction\n",
        "\n",
        "import pandas as pd\n",
        "import numpy as np\n",
        "import seaborn as sn\n",
        "from matplotlib import pyplot as plt\n",
        "from sklearn.model_selection import train_test_split\n",
        "from sklearn.linear_model import LinearRegression, LogisticRegression\n",
        "from sklearn.metrics import accuracy_score\n",
        "from sklearn.metrics import confusion_matrix\n",
        "\n",
        "# Load in the data\n",
        "url = \"https://raw.githubusercontent.com/aviparkhe/football_score_predictor/main/football_scores.csv\"\n",
        "dataset = pd.read_csv(url) # use pandas to read the csv file\n",
        "\n",
        "# Prepare the data\n",
        "features = [\"Visitor_score\", \"Home_score\"]\n",
        "x = dataset[features]\n",
        "y = dataset[\"Winner\"]\n",
        "x_train, x_validation, y_train, y_validation = train_test_split(x, y) # split the data into training and testing, for x and y\n",
        "\n",
        "# Generating the model\n",
        "lr_model = LogisticRegression()\n",
        "lr_model.fit(x_train, y_train) # train the LinearRegression() model\n",
        "predictions = lr_model.predict(x_validation)\n",
        "\n",
        "# Evaluating the model\n",
        "\n",
        "\n",
        "accuracy_score_percent = lr_model.score(x_validation, y_validation) * 100 # calculate the R2 accuracy score using the LinearRegression() model\n",
        "print(f\"ML Model Accuracy Score: {accuracy_score_percent}%\")\n",
        "\n",
        "# Testing the model\n",
        "for i in range(len(y_validation)): \n",
        "  convert_predictions(i)\n",
        "\n",
        "conf_matrix = confusion_matrix(predictions, y_validation)\n",
        "show_confusion_matrix(conf_matrix)"
      ],
      "execution_count": 90,
      "outputs": [
        {
          "output_type": "stream",
          "text": [
            "ML Model Accuracy Score: 100.0%\n"
          ],
          "name": "stdout"
        },
        {
          "output_type": "display_data",
          "data": {
            "image/png": "[encoded data removed]",
            "text/plain": [
              "<Figure size 432x288 with 2 Axes>"
            ]
          },
          "metadata": {
            "tags": []
          }
        }
      ]
    },
    {
      "cell_type": "code",
      "metadata": {
        "id": "US7hRNr3wFJB"
      },
      "source": [
        "# Functions\n",
        "\n",
        "def convert_predictions(i):\n",
        "  if predictions[i] > 0:\n",
        "    predictions[i] = 1\n",
        "  else:\n",
        "    predictions[i] = -1\n",
        "\n",
        "def create_histogram():\n",
        "  dataset.hist(figsize=(20, 15))\n",
        "  plt.show()\n",
        "\n",
        "def show_confusion_matrix(cm):\n",
        "  sn.set(font_scale=1.4)\n",
        "  sn.heatmap(cm, annot=True, annot_kws={\"size\": 16})\n",
        "  plt.show()"
      ],
      "execution_count": 89,
      "outputs": []
    }
  ]
}